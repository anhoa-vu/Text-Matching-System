{
 "cells": [
  {
   "cell_type": "markdown",
   "metadata": {},
   "source": [
    "# Import Package"
   ]
  },
  {
   "cell_type": "code",
   "execution_count": 18,
   "metadata": {},
   "outputs": [
    {
     "name": "stdout",
     "output_type": "stream",
     "text": [
      "The autoreload extension is already loaded. To reload it, use:\n",
      "  %reload_ext autoreload\n"
     ]
    }
   ],
   "source": [
    "#dataframe\n",
    "import pandas as pd\n",
    "\n",
    "#computation\n",
    "import numpy as np\n",
    "\n",
    "#NLP lib\n",
    "import nltk\n",
    "\n",
    "# string operations\n",
    "import string \n",
    "import re\n",
    "\n",
    "# general imports\n",
    "import math\n",
    "\n",
    "\n",
    "#visualization\n",
    "import matplotlib.pyplot as plt\n",
    "\n",
    "#others\n",
    "import collections\n",
    "from collections import Counter\n",
    "\n",
    "#pre-build package\n",
    "from utils import *\n",
    "from Invertedfile_TFIDF import Invertedfile_TFIDF\n",
    "from AverageWordEmbedding import AverageWordEmbedding\n",
    "from WeightedAverageEmbedding import WeightedAverageEmbedding\n",
    "\n",
    "#auto reload\n",
    "%load_ext autoreload\n",
    "%autoreload 2\n",
    "\n",
    "#ignore warning\n",
    "import warnings\n",
    "warnings.filterwarnings('ignore')"
   ]
  },
  {
   "cell_type": "code",
   "execution_count": 3,
   "metadata": {},
   "outputs": [],
   "source": [
    "# !wget http://nlp.stanford.edu/data/glove.6B.zip\n",
    "# !unzip -q glove.6B.zip"
   ]
  },
  {
   "cell_type": "markdown",
   "metadata": {},
   "source": [
    "# Load Data"
   ]
  },
  {
   "cell_type": "code",
   "execution_count": 19,
   "metadata": {},
   "outputs": [
    {
     "name": "stderr",
     "output_type": "stream",
     "text": [
      "b'Skipping line 83032: expected 6 fields, saw 7\\n'\n",
      "b'Skipping line 154657: expected 6 fields, saw 7\\n'\n",
      "b'Skipping line 323916: expected 6 fields, saw 7\\n'\n"
     ]
    },
    {
     "data": {
      "text/html": [
       "<div>\n",
       "<style scoped>\n",
       "    .dataframe tbody tr th:only-of-type {\n",
       "        vertical-align: middle;\n",
       "    }\n",
       "\n",
       "    .dataframe tbody tr th {\n",
       "        vertical-align: top;\n",
       "    }\n",
       "\n",
       "    .dataframe thead th {\n",
       "        text-align: right;\n",
       "    }\n",
       "</style>\n",
       "<table border=\"1\" class=\"dataframe\">\n",
       "  <thead>\n",
       "    <tr style=\"text-align: right;\">\n",
       "      <th></th>\n",
       "      <th>id</th>\n",
       "      <th>qid1</th>\n",
       "      <th>qid2</th>\n",
       "      <th>question1</th>\n",
       "      <th>question2</th>\n",
       "      <th>is_duplicate</th>\n",
       "    </tr>\n",
       "  </thead>\n",
       "  <tbody>\n",
       "    <tr>\n",
       "      <th>0</th>\n",
       "      <td>133273</td>\n",
       "      <td>213221</td>\n",
       "      <td>213222.0</td>\n",
       "      <td>How is the life of a math student? Could you d...</td>\n",
       "      <td>Which level of prepration is enough for the ex...</td>\n",
       "      <td>0.0</td>\n",
       "    </tr>\n",
       "    <tr>\n",
       "      <th>1</th>\n",
       "      <td>402555</td>\n",
       "      <td>536040</td>\n",
       "      <td>536041.0</td>\n",
       "      <td>How do I control my horny emotions?</td>\n",
       "      <td>How do you control your horniness?</td>\n",
       "      <td>1.0</td>\n",
       "    </tr>\n",
       "    <tr>\n",
       "      <th>2</th>\n",
       "      <td>360472</td>\n",
       "      <td>364011</td>\n",
       "      <td>490273.0</td>\n",
       "      <td>What causes stool color to change to yellow?</td>\n",
       "      <td>What can cause stool to come out as little balls?</td>\n",
       "      <td>0.0</td>\n",
       "    </tr>\n",
       "    <tr>\n",
       "      <th>3</th>\n",
       "      <td>150662</td>\n",
       "      <td>155721</td>\n",
       "      <td>7256.0</td>\n",
       "      <td>What can one do after MBBS?</td>\n",
       "      <td>What do i do after my MBBS ?</td>\n",
       "      <td>1.0</td>\n",
       "    </tr>\n",
       "    <tr>\n",
       "      <th>4</th>\n",
       "      <td>183004</td>\n",
       "      <td>279958</td>\n",
       "      <td>279959.0</td>\n",
       "      <td>Where can I find a power outlet for my laptop ...</td>\n",
       "      <td>Would a second airport in Sydney, Australia be...</td>\n",
       "      <td>0.0</td>\n",
       "    </tr>\n",
       "  </tbody>\n",
       "</table>\n",
       "</div>"
      ],
      "text/plain": [
       "       id    qid1      qid2  \\\n",
       "0  133273  213221  213222.0   \n",
       "1  402555  536040  536041.0   \n",
       "2  360472  364011  490273.0   \n",
       "3  150662  155721    7256.0   \n",
       "4  183004  279958  279959.0   \n",
       "\n",
       "                                           question1  \\\n",
       "0  How is the life of a math student? Could you d...   \n",
       "1                How do I control my horny emotions?   \n",
       "2       What causes stool color to change to yellow?   \n",
       "3                        What can one do after MBBS?   \n",
       "4  Where can I find a power outlet for my laptop ...   \n",
       "\n",
       "                                           question2  is_duplicate  \n",
       "0  Which level of prepration is enough for the ex...           0.0  \n",
       "1                 How do you control your horniness?           1.0  \n",
       "2  What can cause stool to come out as little balls?           0.0  \n",
       "3                       What do i do after my MBBS ?           1.0  \n",
       "4  Would a second airport in Sydney, Australia be...           0.0  "
      ]
     },
     "execution_count": 19,
     "metadata": {},
     "output_type": "execute_result"
    }
   ],
   "source": [
    "df = pd.read_csv('data.tsv', sep='\\t',error_bad_lines=False)\n",
    "df.head()"
   ]
  },
  {
   "cell_type": "code",
   "execution_count": 20,
   "metadata": {},
   "outputs": [
    {
     "data": {
      "text/plain": [
       "id              232203\n",
       "qid1            232203\n",
       "qid2            232202\n",
       "question1       232203\n",
       "question2       232203\n",
       "is_duplicate         2\n",
       "dtype: int64"
      ]
     },
     "execution_count": 20,
     "metadata": {},
     "output_type": "execute_result"
    }
   ],
   "source": [
    "df.dropna(inplace=True)\n",
    "#drop rows with dupplication\n",
    "df = df.drop_duplicates(subset = ['question1'], keep = 'last')\n",
    "df = df.drop_duplicates(subset = ['question2'], keep = 'last')\n",
    "df.nunique()"
   ]
  },
  {
   "cell_type": "markdown",
   "metadata": {},
   "source": [
    "### Test Set"
   ]
  },
  {
   "cell_type": "code",
   "execution_count": 21,
   "metadata": {},
   "outputs": [],
   "source": [
    "df.reset_index(inplace=True)"
   ]
  },
  {
   "cell_type": "code",
   "execution_count": 22,
   "metadata": {},
   "outputs": [
    {
     "data": {
      "text/html": [
       "<div>\n",
       "<style scoped>\n",
       "    .dataframe tbody tr th:only-of-type {\n",
       "        vertical-align: middle;\n",
       "    }\n",
       "\n",
       "    .dataframe tbody tr th {\n",
       "        vertical-align: top;\n",
       "    }\n",
       "\n",
       "    .dataframe thead th {\n",
       "        text-align: right;\n",
       "    }\n",
       "</style>\n",
       "<table border=\"1\" class=\"dataframe\">\n",
       "  <thead>\n",
       "    <tr style=\"text-align: right;\">\n",
       "      <th></th>\n",
       "      <th>index</th>\n",
       "      <th>id</th>\n",
       "      <th>qid1</th>\n",
       "      <th>qid2</th>\n",
       "      <th>question1</th>\n",
       "      <th>question2</th>\n",
       "      <th>is_duplicate</th>\n",
       "    </tr>\n",
       "  </thead>\n",
       "  <tbody>\n",
       "    <tr>\n",
       "      <th>1</th>\n",
       "      <td>1</td>\n",
       "      <td>402555</td>\n",
       "      <td>536040</td>\n",
       "      <td>536041.0</td>\n",
       "      <td>How do I control my horny emotions?</td>\n",
       "      <td>How do you control your horniness?</td>\n",
       "      <td>1.0</td>\n",
       "    </tr>\n",
       "    <tr>\n",
       "      <th>6</th>\n",
       "      <td>13</td>\n",
       "      <td>11568</td>\n",
       "      <td>22332</td>\n",
       "      <td>22333.0</td>\n",
       "      <td>Which is the best book to study TENSOR for gen...</td>\n",
       "      <td>Which is the best book for tensor calculus?</td>\n",
       "      <td>1.0</td>\n",
       "    </tr>\n",
       "    <tr>\n",
       "      <th>11</th>\n",
       "      <td>24</td>\n",
       "      <td>33995</td>\n",
       "      <td>62359</td>\n",
       "      <td>62360.0</td>\n",
       "      <td>How does an IQ test work and what is determine...</td>\n",
       "      <td>How does IQ test works?</td>\n",
       "      <td>1.0</td>\n",
       "    </tr>\n",
       "    <tr>\n",
       "      <th>12</th>\n",
       "      <td>25</td>\n",
       "      <td>244506</td>\n",
       "      <td>357159</td>\n",
       "      <td>357160.0</td>\n",
       "      <td>Is it safe to use Xiaomi mobile phones?</td>\n",
       "      <td>Is it safe or unsafe to use Xiaomi Products?</td>\n",
       "      <td>1.0</td>\n",
       "    </tr>\n",
       "    <tr>\n",
       "      <th>14</th>\n",
       "      <td>27</td>\n",
       "      <td>375073</td>\n",
       "      <td>506056</td>\n",
       "      <td>506057.0</td>\n",
       "      <td>What are the best books on cosmology?</td>\n",
       "      <td>Which is the best book for cosmology?</td>\n",
       "      <td>1.0</td>\n",
       "    </tr>\n",
       "  </tbody>\n",
       "</table>\n",
       "</div>"
      ],
      "text/plain": [
       "    index      id    qid1      qid2  \\\n",
       "1       1  402555  536040  536041.0   \n",
       "6      13   11568   22332   22333.0   \n",
       "11     24   33995   62359   62360.0   \n",
       "12     25  244506  357159  357160.0   \n",
       "14     27  375073  506056  506057.0   \n",
       "\n",
       "                                            question1  \\\n",
       "1                 How do I control my horny emotions?   \n",
       "6   Which is the best book to study TENSOR for gen...   \n",
       "11  How does an IQ test work and what is determine...   \n",
       "12            Is it safe to use Xiaomi mobile phones?   \n",
       "14              What are the best books on cosmology?   \n",
       "\n",
       "                                       question2  is_duplicate  \n",
       "1             How do you control your horniness?           1.0  \n",
       "6    Which is the best book for tensor calculus?           1.0  \n",
       "11                       How does IQ test works?           1.0  \n",
       "12  Is it safe or unsafe to use Xiaomi Products?           1.0  \n",
       "14         Which is the best book for cosmology?           1.0  "
      ]
     },
     "execution_count": 22,
     "metadata": {},
     "output_type": "execute_result"
    }
   ],
   "source": [
    "#Get the first 100 \"is duplicate\" rows for testing\n",
    "df_test = df[df['is_duplicate'] == 1].iloc[:100]\n",
    "df_test.head()"
   ]
  },
  {
   "cell_type": "markdown",
   "metadata": {},
   "source": [
    "# Text Preprocessing"
   ]
  },
  {
   "cell_type": "code",
   "execution_count": 23,
   "metadata": {},
   "outputs": [],
   "source": [
    "df['processed_ques2'] = df.question2.apply(lambda x: text_preprocessing(x))"
   ]
  },
  {
   "cell_type": "markdown",
   "metadata": {},
   "source": [
    "# TFIDF with Inverted File"
   ]
  },
  {
   "cell_type": "code",
   "execution_count": 33,
   "metadata": {},
   "outputs": [
    {
     "name": "stdout",
     "output_type": "stream",
     "text": [
      "Build vocabulary...\n",
      "Build TF-IDF matrix...\n",
      "Build inverted file...\n",
      "Model is ready to query!\n"
     ]
    }
   ],
   "source": [
    "model1 = Invertedfile_TFIDF(df[:30000])"
   ]
  },
  {
   "cell_type": "code",
   "execution_count": 34,
   "metadata": {},
   "outputs": [
    {
     "name": "stdout",
     "output_type": "stream",
     "text": [
      "Accuracy with k = 2:  0.75\n",
      "Accuracy wit k = 5:  0.91\n"
     ]
    }
   ],
   "source": [
    "top2  = model1.accuracy(df_test, 2) \n",
    "top5  = model1.accuracy(df_test, 5) \n",
    "\n",
    "print(\"Accuracy with k = 2: \", top2)\n",
    "print(\"Accuracy wit k = 5: \", top5)"
   ]
  },
  {
   "cell_type": "code",
   "execution_count": 39,
   "metadata": {},
   "outputs": [
    {
     "name": "stdout",
     "output_type": "stream",
     "text": [
      "Your query is: How to enjoy life\n",
      " How do you enjoy life as a freelancer? - 5.179750382181805\n",
      "-----------------------------------------------------\n",
      " Do you enjoy work? Why? - 4.87169593166282\n",
      "-----------------------------------------------------\n",
      " How much do you enjoy cricket? - 3.247797287775213\n",
      "-----------------------------------------------------\n",
      " How much do you enjoy basketball? - 3.247797287775213\n",
      "-----------------------------------------------------\n",
      " What will you do if you fail in your life? - 2.8979296416098874\n",
      "-----------------------------------------------------\n"
     ]
    }
   ],
   "source": [
    "model1.query_engine()"
   ]
  },
  {
   "cell_type": "markdown",
   "metadata": {},
   "source": [
    "# Averaging Word Embedding"
   ]
  },
  {
   "cell_type": "code",
   "execution_count": 35,
   "metadata": {},
   "outputs": [
    {
     "name": "stdout",
     "output_type": "stream",
     "text": [
      "Loading Glove Model...\n",
      "Embedding All Question 2 data...\n",
      "Model is ready to query\n"
     ]
    }
   ],
   "source": [
    "model2 = AverageWordEmbedding('glove.6B.100d.txt', 100, df[:30000])"
   ]
  },
  {
   "cell_type": "code",
   "execution_count": 36,
   "metadata": {},
   "outputs": [
    {
     "name": "stdout",
     "output_type": "stream",
     "text": [
      "Accuracy with k = 2:  0.81\n",
      "Accuracy wit k = 5:  0.85\n"
     ]
    }
   ],
   "source": [
    "top2  = model2.accuracy(df_test, 2) \n",
    "top5  = model2.accuracy(df_test, 5) \n",
    "\n",
    "print(\"Accuracy with k = 2: \", top2)\n",
    "print(\"Accuracy wit k = 5: \", top5)"
   ]
  },
  {
   "cell_type": "code",
   "execution_count": 40,
   "metadata": {},
   "outputs": [
    {
     "name": "stdout",
     "output_type": "stream",
     "text": [
      "Your query is: How to learn faster\n",
      " How can I remember faster? - -1.9246873809513352\n",
      "-----------------------------------------------------\n",
      " What is the best way to learn and understand C++ faster? - -2.2462644407355805\n",
      "-----------------------------------------------------\n",
      " How can I learn kannada faster? - -2.5424158592322144\n",
      "-----------------------------------------------------\n",
      " How can I train my brain to think faster? - -2.5925073400224883\n",
      "-----------------------------------------------------\n",
      " How do I teach myself to learn better? - -2.594176584259434\n",
      "-----------------------------------------------------\n"
     ]
    }
   ],
   "source": [
    "model2.query_engine()"
   ]
  },
  {
   "cell_type": "markdown",
   "metadata": {},
   "source": [
    "# TFIDF Weighted Average Word Embedding"
   ]
  },
  {
   "cell_type": "code",
   "execution_count": 37,
   "metadata": {},
   "outputs": [
    {
     "name": "stdout",
     "output_type": "stream",
     "text": [
      "Build vocabulary...\n",
      "Loading Glove Model...\n",
      "Embedding All Question 2 data...\n",
      "Model is ready to query\n"
     ]
    }
   ],
   "source": [
    "model3 = WeightedAverageEmbedding('glove.6B.100d.txt', 100, df[:30000])"
   ]
  },
  {
   "cell_type": "code",
   "execution_count": 38,
   "metadata": {},
   "outputs": [
    {
     "name": "stdout",
     "output_type": "stream",
     "text": [
      "Accuracy with k = 2:  0.64\n",
      "Accuracy wit k = 5:  0.65\n"
     ]
    }
   ],
   "source": [
    "top2  = model3.accuracy(df_test, 2) \n",
    "top5  = model3.accuracy(df_test, 5) \n",
    "\n",
    "print(\"Accuracy with k = 2: \", top2)\n",
    "print(\"Accuracy wit k = 5: \", top5)"
   ]
  },
  {
   "cell_type": "code",
   "execution_count": 41,
   "metadata": {},
   "outputs": [
    {
     "name": "stdout",
     "output_type": "stream",
     "text": [
      "Your query is: How to stay motivated\n",
      " How have I motivated others? - -2.070999478078923\n",
      "-----------------------------------------------------\n",
      " Am I justified in being afraid to bring a child into the world? - -2.478648188885372\n",
      "-----------------------------------------------------\n",
      " Is it normal to have cheated in a relationship even though you wouldn't tolerate that behavior from your partner? - -2.79645873615929\n",
      "-----------------------------------------------------\n",
      " I am a student and feeling annoyed to my family because of their behaviour. I can't focus on my studies. Suggestion? - -2.8029969546267064\n",
      "-----------------------------------------------------\n",
      " What are some good patterns from the past that tell us that countries are likely to engage in a war? - -2.8677332188447213\n",
      "-----------------------------------------------------\n"
     ]
    }
   ],
   "source": [
    "model3.query_engine()"
   ]
  },
  {
   "cell_type": "code",
   "execution_count": null,
   "metadata": {},
   "outputs": [],
   "source": []
  }
 ],
 "metadata": {
  "interpreter": {
   "hash": "9be210f112d3bd93a6327b459217e15105c4405a02aec2765b09f959417e942a"
  },
  "kernelspec": {
   "display_name": "Python 3.8.8 ('nlp_env')",
   "language": "python",
   "name": "python3"
  },
  "language_info": {
   "codemirror_mode": {
    "name": "ipython",
    "version": 3
   },
   "file_extension": ".py",
   "mimetype": "text/x-python",
   "name": "python",
   "nbconvert_exporter": "python",
   "pygments_lexer": "ipython3",
   "version": "3.8.8"
  },
  "orig_nbformat": 4
 },
 "nbformat": 4,
 "nbformat_minor": 2
}
